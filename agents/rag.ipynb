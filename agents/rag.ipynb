{
 "cells": [
  {
   "cell_type": "code",
   "execution_count": 1,
   "id": "7c0b5099",
   "metadata": {},
   "outputs": [],
   "source": [
    "from langchain_community.document_loaders import PyPDFLoader, DirectoryLoader\n",
    "from langchain.text_splitter import RecursiveCharacterTextSplitter, CharacterTextSplitter\n",
    "from langchain_community.embeddings import GPT4AllEmbeddings\n",
    "from symspellpy import SymSpell, Verbosity\n",
    "from pyvi import ViTokenizer\n",
    "from langchain.vectorstores import FAISS\n",
    "from langchain_huggingface import HuggingFaceEmbeddings\n",
    "import torch\n"
   ]
  },
  {
   "cell_type": "code",
   "execution_count": 21,
   "id": "fcdaa49b",
   "metadata": {},
   "outputs": [
    {
     "name": "stderr",
     "output_type": "stream",
     "text": [
      "/mnt/d/HOPT/Agent_build/Telemed_agent/.venv/lib/python3.10/site-packages/torch/nn/modules/module.py:1762: FutureWarning: `encoder_attention_mask` is deprecated and will be removed in version 4.55.0 for `BertSdpaSelfAttention.forward`.\n",
      "  return forward_call(*args, **kwargs)\n"
     ]
    },
    {
     "data": {
      "text/plain": [
       "<langchain_community.vectorstores.faiss.FAISS at 0x7f1a04769660>"
      ]
     },
     "execution_count": 21,
     "metadata": {},
     "output_type": "execute_result"
    }
   ],
   "source": [
    "# Khai báo biến\n",
    "\n",
    "vector_db_path = \"vector_db_store/rag_vector_db\"\n",
    "\n",
    "# Tạo vector db từ một đoạn text\n",
    "def create_vector_db_from_text():\n",
    "    raw_txt = \"\"\"ACID URIC - HUYẾT (Tăng)\n",
    "          *#* Nam: 40 - 70 mg/l\n",
    "Khi trên: *#* Nữ: 35 - 60 mg/l\n",
    "          *#* Trẻ: 15 - 40 mg/l\n",
    "mg x 5,95 = micromol\n",
    "- TĂNG ACID URIC - HUYẾT THỂ CHẤT (yếu tố di truyền) ở đàn ông:\n",
    "* Dẫn đến bệnh gút và bệnh sỏi;\n",
    "- Gia tăng do ăn quá thừa chất, cuộc sống ít vận động, ăn thừa lipid, uống rượu.\n",
    "- TĂNG ACID URIC - HUYẾT TRONG NHỮNG TRƯỜNG HỢP SUY THẬN, đặc biệt ở bệnh thận nhiễm độc chì và thai nhiễm độc huyết.\n",
    "- TĂNG ACID URIC - HUYẾT Ở BỆNH MÁU:\n",
    "* Bệnh Vaquez:\n",
    "- Bệnh lách to dạng tủy;\n",
    "- Bệnh bạch cầu dạng tủy, bệnh bạch cầu cấp; và nhất là acid uric - huyết rất tăng, trong bệnh bạch cầu điều trị bằng hóa liệu pháp tiêu tế bào và liệu pháp corticoit (đôi khi vô niệu do urat kết tủa).\n",
    "- TĂNG ACID URIC - HUYẾT THỰC SỰ DO THUỐC (chích thuốc làm tăng acid uric - huyết):\n",
    "- Thuốc salicyle với liều nhỏ: Ethambutol; Corticoit...\n",
    "* Tiêu tế bào, thuộc trị ung thư; thuốc chống đông cumarinic; nhất là thuốc lợi niệu: thiazid (Diưrilix, Esidrex, u.u..); furosemid (Lasilix, Trofurrt), acid etacrynic (Edecrrne).\n",
    "- TĂNG ACID URIC - HUYẾT GIẢ (giao thoa trong định lượng)\n",
    "* Acid ascorbic (Vitamin C); Amidopyrin; Alphamethyl - dopa; L.dopa: Phenacetin; Paracetamol; Cafein; Theophyllin;\n",
    "- Trong bệnh tích glycogen gan, acid urie - huyết rất cao;\n",
    "- Bệnh não tăng acid uric - huyết, có tính cách gia đình, kèm với chậm tâm thần và tự hủy hoại, do thiếu enzym (hội chứng Lesch - Nyhan).\"\"\"\n",
    "\n",
    "    text_splitter = CharacterTextSplitter(\n",
    "        separator=\"\\n\",\n",
    "        chunk_size=500,\n",
    "        chunk_overlap=50,\n",
    "        length_function=len\n",
    "    )\n",
    "\n",
    "    chunks = text_splitter.split_text(raw_txt)\n",
    "\n",
    "    embeddings = HuggingFaceEmbeddings(\n",
    "        model_name=\"sentence-transformers/all-MiniLM-L6-v2\",\n",
    "        model_kwargs={\"device\": \"cuda\" if torch.cuda.is_available() else \"cpu\"}\n",
    "    )\n",
    "    # Đưa vào faiss vector db\n",
    "    vector_db = FAISS.from_texts(chunks, embeddings)\n",
    "    vector_db.save_local(vector_db_path)\n",
    "    return vector_db\n",
    "\n",
    "create_vector_db_from_text()\n"
   ]
  },
  {
   "cell_type": "code",
   "execution_count": 23,
   "id": "9c051811",
   "metadata": {},
   "outputs": [
    {
     "name": "stderr",
     "output_type": "stream",
     "text": [
      "/mnt/d/HOPT/Agent_build/Telemed_agent/.venv/lib/python3.10/site-packages/torch/nn/modules/module.py:1762: FutureWarning: `encoder_attention_mask` is deprecated and will be removed in version 4.55.0 for `BertSdpaSelfAttention.forward`.\n",
      "  return forward_call(*args, **kwargs)\n"
     ]
    },
    {
     "data": {
      "text/plain": [
       "<langchain_community.vectorstores.faiss.FAISS at 0x7f1a25e8c790>"
      ]
     },
     "execution_count": 23,
     "metadata": {},
     "output_type": "execute_result"
    }
   ],
   "source": [
    "data_path = \"/mnt/d/HOPT/Agent_build/Telemed_agent/data/RAG\"\n",
    "\n",
    "def create_db_from_files():\n",
    "    # Khai báo loader để quét toàn bộ thư mục\n",
    "    loader = DirectoryLoader(\n",
    "        data_path,\n",
    "        glob= \"*.pdf\",\n",
    "        loader_cls= PyPDFLoader\n",
    "    )\n",
    "    document = loader.load()\n",
    "    text_splitter = RecursiveCharacterTextSplitter(\n",
    "        chunk_size=512,\n",
    "        chunk_overlap=50\n",
    "    )\n",
    "    chunks = text_splitter.split_documents(document)\n",
    "    embeddings = HuggingFaceEmbeddings(\n",
    "        model_name=\"sentence-transformers/all-MiniLM-L6-v2\",\n",
    "        model_kwargs={\"device\": \"cuda\" if torch.cuda.is_available() else \"cpu\"}\n",
    "    )\n",
    "    db = FAISS.from_documents(chunks, embeddings)\n",
    "    db.save_local(vector_db_path)\n",
    "    return db\n",
    "\n",
    "create_db_from_files()\n"
   ]
  },
  {
   "cell_type": "code",
   "execution_count": null,
   "id": "9afb8d82",
   "metadata": {},
   "outputs": [],
   "source": []
  }
 ],
 "metadata": {
  "kernelspec": {
   "display_name": ".venv",
   "language": "python",
   "name": "python3"
  },
  "language_info": {
   "codemirror_mode": {
    "name": "ipython",
    "version": 3
   },
   "file_extension": ".py",
   "mimetype": "text/x-python",
   "name": "python",
   "nbconvert_exporter": "python",
   "pygments_lexer": "ipython3",
   "version": "3.10.12"
  }
 },
 "nbformat": 4,
 "nbformat_minor": 5
}
